{
 "cells": [
  {
   "cell_type": "markdown",
   "id": "57f91872",
   "metadata": {},
   "source": [
    "A. Struktur Perulangan Tunggal "
   ]
  },
  {
   "cell_type": "markdown",
   "id": "5299a419",
   "metadata": {},
   "source": [
    "1. Me-looping Bilangan Pangkat 3"
   ]
  },
  {
   "cell_type": "code",
   "execution_count": 2,
   "id": "dcfbe56f",
   "metadata": {},
   "outputs": [
    {
     "name": "stdout",
     "output_type": "stream",
     "text": [
      "Masukkan batas bawah : 1\n",
      "Masukkan batas atas : 101\n",
      "Masukkan step : 1\n",
      "Hasil pangkat 3 dari 1 = 1\n",
      "Hasil pangkat 3 dari 2 = 8\n",
      "Hasil pangkat 3 dari 3 = 27\n",
      "Hasil pangkat 3 dari 4 = 64\n",
      "Hasil pangkat 3 dari 5 = 125\n",
      "Hasil pangkat 3 dari 6 = 216\n",
      "Hasil pangkat 3 dari 7 = 343\n",
      "Hasil pangkat 3 dari 8 = 512\n",
      "Hasil pangkat 3 dari 9 = 729\n",
      "Hasil pangkat 3 dari 10 = 1000\n",
      "Hasil pangkat 3 dari 11 = 1331\n",
      "Hasil pangkat 3 dari 12 = 1728\n",
      "Hasil pangkat 3 dari 13 = 2197\n",
      "Hasil pangkat 3 dari 14 = 2744\n",
      "Hasil pangkat 3 dari 15 = 3375\n",
      "Hasil pangkat 3 dari 16 = 4096\n",
      "Hasil pangkat 3 dari 17 = 4913\n",
      "Hasil pangkat 3 dari 18 = 5832\n",
      "Hasil pangkat 3 dari 19 = 6859\n",
      "Hasil pangkat 3 dari 20 = 8000\n",
      "Hasil pangkat 3 dari 21 = 9261\n",
      "Hasil pangkat 3 dari 22 = 10648\n",
      "Hasil pangkat 3 dari 23 = 12167\n",
      "Hasil pangkat 3 dari 24 = 13824\n",
      "Hasil pangkat 3 dari 25 = 15625\n",
      "Hasil pangkat 3 dari 26 = 17576\n",
      "Hasil pangkat 3 dari 27 = 19683\n",
      "Hasil pangkat 3 dari 28 = 21952\n",
      "Hasil pangkat 3 dari 29 = 24389\n",
      "Hasil pangkat 3 dari 30 = 27000\n",
      "Hasil pangkat 3 dari 31 = 29791\n",
      "Hasil pangkat 3 dari 32 = 32768\n",
      "Hasil pangkat 3 dari 33 = 35937\n",
      "Hasil pangkat 3 dari 34 = 39304\n",
      "Hasil pangkat 3 dari 35 = 42875\n",
      "Hasil pangkat 3 dari 36 = 46656\n",
      "Hasil pangkat 3 dari 37 = 50653\n",
      "Hasil pangkat 3 dari 38 = 54872\n",
      "Hasil pangkat 3 dari 39 = 59319\n",
      "Hasil pangkat 3 dari 40 = 64000\n",
      "Hasil pangkat 3 dari 41 = 68921\n",
      "Hasil pangkat 3 dari 42 = 74088\n",
      "Hasil pangkat 3 dari 43 = 79507\n",
      "Hasil pangkat 3 dari 44 = 85184\n",
      "Hasil pangkat 3 dari 45 = 91125\n",
      "Hasil pangkat 3 dari 46 = 97336\n",
      "Hasil pangkat 3 dari 47 = 103823\n",
      "Hasil pangkat 3 dari 48 = 110592\n",
      "Hasil pangkat 3 dari 49 = 117649\n",
      "Hasil pangkat 3 dari 50 = 125000\n",
      "Hasil pangkat 3 dari 51 = 132651\n",
      "Hasil pangkat 3 dari 52 = 140608\n",
      "Hasil pangkat 3 dari 53 = 148877\n",
      "Hasil pangkat 3 dari 54 = 157464\n",
      "Hasil pangkat 3 dari 55 = 166375\n",
      "Hasil pangkat 3 dari 56 = 175616\n",
      "Hasil pangkat 3 dari 57 = 185193\n",
      "Hasil pangkat 3 dari 58 = 195112\n",
      "Hasil pangkat 3 dari 59 = 205379\n",
      "Hasil pangkat 3 dari 60 = 216000\n",
      "Hasil pangkat 3 dari 61 = 226981\n",
      "Hasil pangkat 3 dari 62 = 238328\n",
      "Hasil pangkat 3 dari 63 = 250047\n",
      "Hasil pangkat 3 dari 64 = 262144\n",
      "Hasil pangkat 3 dari 65 = 274625\n",
      "Hasil pangkat 3 dari 66 = 287496\n",
      "Hasil pangkat 3 dari 67 = 300763\n",
      "Hasil pangkat 3 dari 68 = 314432\n",
      "Hasil pangkat 3 dari 69 = 328509\n",
      "Hasil pangkat 3 dari 70 = 343000\n",
      "Hasil pangkat 3 dari 71 = 357911\n",
      "Hasil pangkat 3 dari 72 = 373248\n",
      "Hasil pangkat 3 dari 73 = 389017\n",
      "Hasil pangkat 3 dari 74 = 405224\n",
      "Hasil pangkat 3 dari 75 = 421875\n",
      "Hasil pangkat 3 dari 76 = 438976\n",
      "Hasil pangkat 3 dari 77 = 456533\n",
      "Hasil pangkat 3 dari 78 = 474552\n",
      "Hasil pangkat 3 dari 79 = 493039\n",
      "Hasil pangkat 3 dari 80 = 512000\n",
      "Hasil pangkat 3 dari 81 = 531441\n",
      "Hasil pangkat 3 dari 82 = 551368\n",
      "Hasil pangkat 3 dari 83 = 571787\n",
      "Hasil pangkat 3 dari 84 = 592704\n",
      "Hasil pangkat 3 dari 85 = 614125\n",
      "Hasil pangkat 3 dari 86 = 636056\n",
      "Hasil pangkat 3 dari 87 = 658503\n",
      "Hasil pangkat 3 dari 88 = 681472\n",
      "Hasil pangkat 3 dari 89 = 704969\n",
      "Hasil pangkat 3 dari 90 = 729000\n",
      "Hasil pangkat 3 dari 91 = 753571\n",
      "Hasil pangkat 3 dari 92 = 778688\n",
      "Hasil pangkat 3 dari 93 = 804357\n",
      "Hasil pangkat 3 dari 94 = 830584\n",
      "Hasil pangkat 3 dari 95 = 857375\n",
      "Hasil pangkat 3 dari 96 = 884736\n",
      "Hasil pangkat 3 dari 97 = 912673\n",
      "Hasil pangkat 3 dari 98 = 941192\n",
      "Hasil pangkat 3 dari 99 = 970299\n",
      "Hasil pangkat 3 dari 100 = 1000000\n"
     ]
    }
   ],
   "source": [
    "bb = int(input(\"Masukkan batas bawah : \"))\n",
    "ba = int(input(\"Masukkan batas atas : \"))\n",
    "step = int(input(\"Masukkan step : \"))\n",
    "for n in range(bb,ba,step):\n",
    "    n**3\n",
    "    print(\"Hasil pangkat 3 dari\", n, \"=\", n**3)"
   ]
  },
  {
   "cell_type": "markdown",
   "id": "1b8af354",
   "metadata": {},
   "source": [
    "2. Me-looping Akar Bilangan"
   ]
  },
  {
   "cell_type": "code",
   "execution_count": 3,
   "id": "56e25330",
   "metadata": {},
   "outputs": [
    {
     "name": "stdout",
     "output_type": "stream",
     "text": [
      "Masukkan batas bawah : 1\n",
      "Masukkan batas atas : 50\n",
      "Masukkan step : 1\n",
      "Hasil akar dari 1 = 1.0\n",
      "Hasil akar dari 2 = 1.4142135623730951\n",
      "Hasil akar dari 3 = 1.7320508075688772\n",
      "Hasil akar dari 4 = 2.0\n",
      "Hasil akar dari 5 = 2.23606797749979\n",
      "Hasil akar dari 6 = 2.449489742783178\n",
      "Hasil akar dari 7 = 2.6457513110645907\n",
      "Hasil akar dari 8 = 2.8284271247461903\n",
      "Hasil akar dari 9 = 3.0\n",
      "Hasil akar dari 10 = 3.1622776601683795\n",
      "Hasil akar dari 11 = 3.3166247903554\n",
      "Hasil akar dari 12 = 3.4641016151377544\n",
      "Hasil akar dari 13 = 3.605551275463989\n",
      "Hasil akar dari 14 = 3.7416573867739413\n",
      "Hasil akar dari 15 = 3.872983346207417\n",
      "Hasil akar dari 16 = 4.0\n",
      "Hasil akar dari 17 = 4.123105625617661\n",
      "Hasil akar dari 18 = 4.242640687119285\n",
      "Hasil akar dari 19 = 4.358898943540674\n",
      "Hasil akar dari 20 = 4.47213595499958\n",
      "Hasil akar dari 21 = 4.58257569495584\n",
      "Hasil akar dari 22 = 4.69041575982343\n",
      "Hasil akar dari 23 = 4.795831523312719\n",
      "Hasil akar dari 24 = 4.898979485566356\n",
      "Hasil akar dari 25 = 5.0\n",
      "Hasil akar dari 26 = 5.0990195135927845\n",
      "Hasil akar dari 27 = 5.196152422706632\n",
      "Hasil akar dari 28 = 5.291502622129181\n",
      "Hasil akar dari 29 = 5.385164807134504\n",
      "Hasil akar dari 30 = 5.477225575051661\n",
      "Hasil akar dari 31 = 5.5677643628300215\n",
      "Hasil akar dari 32 = 5.656854249492381\n",
      "Hasil akar dari 33 = 5.744562646538029\n",
      "Hasil akar dari 34 = 5.830951894845301\n",
      "Hasil akar dari 35 = 5.916079783099616\n",
      "Hasil akar dari 36 = 6.0\n",
      "Hasil akar dari 37 = 6.082762530298219\n",
      "Hasil akar dari 38 = 6.164414002968976\n",
      "Hasil akar dari 39 = 6.244997998398398\n",
      "Hasil akar dari 40 = 6.324555320336759\n",
      "Hasil akar dari 41 = 6.4031242374328485\n",
      "Hasil akar dari 42 = 6.48074069840786\n",
      "Hasil akar dari 43 = 6.557438524302\n",
      "Hasil akar dari 44 = 6.6332495807108\n",
      "Hasil akar dari 45 = 6.708203932499369\n",
      "Hasil akar dari 46 = 6.782329983125268\n",
      "Hasil akar dari 47 = 6.855654600401044\n",
      "Hasil akar dari 48 = 6.928203230275509\n",
      "Hasil akar dari 49 = 7.0\n",
      "Hasil akar dari 50 = 7.0710678118654755\n"
     ]
    }
   ],
   "source": [
    "import math \n",
    "bb = int(input(\"Masukkan batas bawah : \"))\n",
    "ba = int(input(\"Masukkan batas atas : \"))\n",
    "step = int(input(\"Masukkan step : \"))\n",
    "while bb <= ba:\n",
    "    akar=math.sqrt(bb)\n",
    "    print(\"Hasil akar dari\", bb, \"=\", akar)\n",
    "    bb += step"
   ]
  },
  {
   "cell_type": "markdown",
   "id": "8c34aef1",
   "metadata": {},
   "source": [
    "3. Me-looping Faktorial Bilangan"
   ]
  },
  {
   "cell_type": "code",
   "execution_count": 3,
   "id": "cb06469a",
   "metadata": {},
   "outputs": [
    {
     "name": "stdout",
     "output_type": "stream",
     "text": [
      "Masukkan batas bawah : 1\n",
      "Masukkan batas atas : 20\n",
      "Masukkan step : 1\n",
      "Hasil faktorial dari 1! = 1\n",
      "Hasil faktorial dari 2! = 2\n",
      "Hasil faktorial dari 3! = 6\n",
      "Hasil faktorial dari 4! = 24\n",
      "Hasil faktorial dari 5! = 120\n",
      "Hasil faktorial dari 6! = 720\n",
      "Hasil faktorial dari 7! = 5040\n",
      "Hasil faktorial dari 8! = 40320\n",
      "Hasil faktorial dari 9! = 362880\n",
      "Hasil faktorial dari 10! = 3628800\n",
      "Hasil faktorial dari 11! = 39916800\n",
      "Hasil faktorial dari 12! = 479001600\n",
      "Hasil faktorial dari 13! = 6227020800\n",
      "Hasil faktorial dari 14! = 87178291200\n",
      "Hasil faktorial dari 15! = 1307674368000\n",
      "Hasil faktorial dari 16! = 20922789888000\n",
      "Hasil faktorial dari 17! = 355687428096000\n",
      "Hasil faktorial dari 18! = 6402373705728000\n",
      "Hasil faktorial dari 19! = 121645100408832000\n",
      "Hasil faktorial dari 20! = 2432902008176640000\n"
     ]
    }
   ],
   "source": [
    "import math\n",
    "bb = int(input(\"Masukkan batas bawah : \"))\n",
    "ba = int(input(\"Masukkan batas atas : \"))\n",
    "step = int(input(\"Masukkan step : \"))\n",
    "while True : \n",
    "    faktorial = math.factorial(bb)\n",
    "    print(\"Hasil faktorial dari\" f\" {bb}! = {faktorial}\")\n",
    "    bb = bb + step\n",
    "    if(bb > ba):\n",
    "        break"
   ]
  },
  {
   "cell_type": "markdown",
   "id": "d19f7dc3",
   "metadata": {},
   "source": [
    "B. Struktur Perulangan Bersarang "
   ]
  },
  {
   "cell_type": "markdown",
   "id": "b2890192",
   "metadata": {},
   "source": [
    "1. Menampilkan Bilangan Ganjil Selain Kelipatan 3"
   ]
  },
  {
   "cell_type": "code",
   "execution_count": 1,
   "id": "0e450238",
   "metadata": {},
   "outputs": [
    {
     "name": "stdout",
     "output_type": "stream",
     "text": [
      "Masukkan batas bawah : 1\n",
      "Masukkan batas atas : 15\n",
      "1\n",
      "5\n",
      "7\n",
      "11\n",
      "13\n"
     ]
    }
   ],
   "source": [
    "bb = int(input(\"Masukkan batas bawah : \"))\n",
    "ba = int(input(\"Masukkan batas atas : \"))\n",
    "for bil in range (bb,ba):\n",
    "    if bil %2==0 or bil %3==0:\n",
    "        continue\n",
    "    print(bil)"
   ]
  },
  {
   "cell_type": "markdown",
   "id": "a3aa7f46",
   "metadata": {},
   "source": [
    "2. Menampilkan Bilangan Ganjil selain Kelipatan 7 serta 11, namun Bilangan yang Ditampilkan Hanya Dibatasi <100"
   ]
  },
  {
   "cell_type": "code",
   "execution_count": 2,
   "id": "ec206531",
   "metadata": {},
   "outputs": [
    {
     "name": "stdout",
     "output_type": "stream",
     "text": [
      "Masukkan batas bawah : 1\n",
      "Masukkan batas atas : 250\n",
      "1\n",
      "3\n",
      "5\n",
      "9\n",
      "13\n",
      "15\n",
      "17\n",
      "19\n",
      "23\n",
      "25\n",
      "27\n",
      "29\n",
      "31\n",
      "37\n",
      "39\n",
      "41\n",
      "43\n",
      "45\n",
      "47\n",
      "51\n",
      "53\n",
      "57\n",
      "59\n",
      "61\n",
      "65\n",
      "67\n",
      "69\n",
      "71\n",
      "73\n",
      "75\n",
      "79\n",
      "81\n",
      "83\n",
      "85\n",
      "87\n",
      "89\n",
      "93\n",
      "95\n",
      "97\n"
     ]
    }
   ],
   "source": [
    "bb = int(input(\"Masukkan batas bawah : \"))\n",
    "ba = int(input(\"Masukkan batas atas : \"))\n",
    "for bil in range (bb,ba):\n",
    "    if bil %2==0 or bil %7==0 or bil %11==0:\n",
    "        continue\n",
    "    if bil > 100:\n",
    "        break\n",
    "    print(bil)"
   ]
  },
  {
   "cell_type": "markdown",
   "id": "aa12329d",
   "metadata": {},
   "source": [
    "3. Menampilkan Kuarter Bulan"
   ]
  },
  {
   "cell_type": "code",
   "execution_count": null,
   "id": "8fda2b36",
   "metadata": {
    "scrolled": true
   },
   "outputs": [
    {
     "name": "stdout",
     "output_type": "stream",
     "text": [
      "Masukkan nama bulan : Mei\n",
      "Maka akan di tampilkan Quarter 2\n"
     ]
    }
   ],
   "source": [
    "from goto import with_goto\n",
    "\n",
    "@with_goto\n",
    "def input_month():\n",
    "    \n",
    "    label .getinput\n",
    "    month = str(input(\"Masukkan nama bulan : \"))\n",
    "    \n",
    "    if month=='Januari' or month=='Februari' or month=='Maret':\n",
    "        goto .q1\n",
    "    elif month=='April' or month=='Mei' or month=='Juni':\n",
    "        goto .q2\n",
    "    elif month=='Juli' or month=='Agustus' or month=='September':\n",
    "        goto .q3\n",
    "    elif month=='Oktober' or month=='November' or month=='Desember':\n",
    "        goto .q4\n",
    "    else:\n",
    "        goto .quit\n",
    "        \n",
    "    label .q1\n",
    "    print(\"Maka akan di tampilkan Quarter 1\")\n",
    "    goto .getinput\n",
    "    \n",
    "    label .q2\n",
    "    print(\"Maka akan di tampilkan Quarter 2\")\n",
    "    goto .getinput\n",
    "    \n",
    "    label .q3\n",
    "    print(\"Maka akan di tampilkan Quarter 3\")\n",
    "    goto .getinput\n",
    "    \n",
    "    label .q4\n",
    "    print(\"Maka akan di tampilkan Quarter 4\")\n",
    "    goto .getinput\n",
    "    \n",
    "    label .quit\n",
    "    print(\"Tidak dapat menampilkan Quarter Bulan\")\n",
    "    \n",
    "input_month()"
   ]
  },
  {
   "cell_type": "markdown",
   "id": "e9785ef3",
   "metadata": {},
   "source": [
    "4. Menampilkan Tinggi Bintang"
   ]
  },
  {
   "cell_type": "code",
   "execution_count": 1,
   "id": "805be2e6",
   "metadata": {},
   "outputs": [
    {
     "name": "stdout",
     "output_type": "stream",
     "text": [
      "Masukkan tinggi bintang : 5\n",
      "    * \n",
      "   * * \n",
      "  * * * \n",
      " * * * * \n",
      "* * * * * \n"
     ]
    }
   ],
   "source": [
    "height = eval(input(\"Masukkan tinggi bintang : \"))\n",
    "for row in range(height):\n",
    "    for count in range(height-row-1):\n",
    "        print(end=\" \")\n",
    "    for count in range (row+1):\n",
    "        print(\"*\", end=\" \")\n",
    "    print()"
   ]
  },
  {
   "cell_type": "code",
   "execution_count": null,
   "id": "ff448b65",
   "metadata": {},
   "outputs": [],
   "source": []
  }
 ],
 "metadata": {
  "kernelspec": {
   "display_name": "Python 3 (ipykernel)",
   "language": "python",
   "name": "python3"
  },
  "language_info": {
   "codemirror_mode": {
    "name": "ipython",
    "version": 3
   },
   "file_extension": ".py",
   "mimetype": "text/x-python",
   "name": "python",
   "nbconvert_exporter": "python",
   "pygments_lexer": "ipython3",
   "version": "3.9.12"
  }
 },
 "nbformat": 4,
 "nbformat_minor": 5
}
